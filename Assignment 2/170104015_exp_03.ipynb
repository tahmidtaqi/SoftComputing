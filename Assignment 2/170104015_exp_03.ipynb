{
  "nbformat": 4,
  "nbformat_minor": 0,
  "metadata": {
    "colab": {
      "name": "170104015_exp_03.ipynb",
      "provenance": [],
      "collapsed_sections": [
        "ELmvZHX7gB7f",
        "vy9i_zJN2x3K",
        "mdAwK4i9hSlj",
        "muXO0kOLMQ4_",
        "59bFd5eI3dOh",
        "8Ln4MpL_8CQE",
        "ooaWornKkW2d",
        "r3OkI1J875jn",
        "6UZqwEqK3oOt"
      ]
    },
    "kernelspec": {
      "name": "python3",
      "display_name": "Python 3"
    },
    "language_info": {
      "name": "python"
    }
  },
  "cells": [
    {
      "cell_type": "markdown",
      "metadata": {
        "id": "ELmvZHX7gB7f"
      },
      "source": [
        "# **Download from Drive**\n",
        "\n",
        "---\n",
        "\n"
      ]
    },
    {
      "cell_type": "code",
      "metadata": {
        "colab": {
          "base_uri": "https://localhost:8080/"
        },
        "id": "WMJVu-eqW9yO",
        "outputId": "87264e38-180e-41a8-cb0c-8ceee70fc9db"
      },
      "source": [
        "!gdown --id '1W9Nfeud6VPLL4N90mHGsNuZK2ECwlWo8'\n"
      ],
      "execution_count": 2,
      "outputs": [
        {
          "output_type": "stream",
          "name": "stdout",
          "text": [
            "Downloading...\n",
            "From: https://drive.google.com/uc?id=1W9Nfeud6VPLL4N90mHGsNuZK2ECwlWo8\n",
            "To: /content/verification_train.csv\n",
            "133MB [00:02, 54.8MB/s]\n"
          ]
        }
      ]
    },
    {
      "cell_type": "code",
      "metadata": {
        "colab": {
          "base_uri": "https://localhost:8080/"
        },
        "id": "5ZZIKbLc6beJ",
        "outputId": "63ee518c-1d99-4552-e5af-0f5500aaa3c3"
      },
      "source": [
        "!gdown --id '1FNRsmAjjwvbBIQPhktGst0fn9uWw0DQK'\n",
        "\n"
      ],
      "execution_count": 7,
      "outputs": [
        {
          "output_type": "stream",
          "name": "stdout",
          "text": [
            "Downloading...\n",
            "From: https://drive.google.com/uc?id=1FNRsmAjjwvbBIQPhktGst0fn9uWw0DQK\n",
            "To: /content/verification_test.csv\n",
            "22.2MB [00:00, 36.0MB/s]\n"
          ]
        }
      ]
    },
    {
      "cell_type": "markdown",
      "metadata": {
        "id": "vy9i_zJN2x3K"
      },
      "source": [
        "# **Imports**\n",
        "\n",
        "---\n",
        "\n"
      ]
    },
    {
      "cell_type": "code",
      "metadata": {
        "id": "lM5m3zgwP61m"
      },
      "source": [
        "import pandas as pd\n",
        "import numpy as np\n",
        "\n",
        "import torch\n",
        "import torch.nn as nn\n",
        "import torch.nn.functional as F\n",
        "import torch.optim as optim\n",
        "from torch.optim import lr_scheduler\n",
        "from torch.autograd import Variable\n",
        "from torch.utils.data import DataLoader, Dataset\n",
        "from torchvision import transforms\n",
        "from torchvision.utils import make_grid\n",
        "\n",
        "import math\n",
        "import random\n",
        "\n",
        "from PIL import Image, ImageOps, ImageEnhance\n",
        "import numbers\n",
        "\n",
        "import matplotlib.pyplot as plt\n",
        "%matplotlib inline"
      ],
      "execution_count": 4,
      "outputs": []
    },
    {
      "cell_type": "code",
      "metadata": {
        "colab": {
          "base_uri": "https://localhost:8080/"
        },
        "id": "YMk0J-nr6E7-",
        "outputId": "63c4c9c1-cba4-49ec-d63f-eab1118bda06"
      },
      "source": [
        "train_df = pd.read_csv('verification_train.csv')\n",
        "\n",
        "n_train = len(train_df)\n",
        "n_pixels = len(train_df.columns) - 1\n",
        "n_class = len(set(train_df['label']))\n",
        "\n",
        "print('Number of training samples: {0}'.format(n_train))\n",
        "print('Number of training pixels: {0}'.format(n_pixels))\n",
        "print('Number of classes: {0}'.format(n_class))"
      ],
      "execution_count": 5,
      "outputs": [
        {
          "output_type": "stream",
          "name": "stdout",
          "text": [
            "Number of training samples: 60000\n",
            "Number of training pixels: 784\n",
            "Number of classes: 10\n"
          ]
        }
      ]
    },
    {
      "cell_type": "code",
      "metadata": {
        "colab": {
          "base_uri": "https://localhost:8080/"
        },
        "id": "C1JkRWLQ6koX",
        "outputId": "dda40875-892c-4bb1-a347-e52c2cd1162f"
      },
      "source": [
        "test_df = pd.read_csv('verification_test.csv')\n",
        "\n",
        "n_test = len(test_df)\n",
        "n_pixels = len(test_df.columns)-1\n",
        "n_class = len(set(train_df['label']))\n",
        "\n",
        "print('Number of train samples: {0}'.format(n_test))\n",
        "print('Number of test pixels: {0}'.format(n_pixels))\n",
        "print('Number of classes: {0}'.format(n_class))"
      ],
      "execution_count": 8,
      "outputs": [
        {
          "output_type": "stream",
          "name": "stdout",
          "text": [
            "Number of train samples: 10000\n",
            "Number of test pixels: 784\n",
            "Number of classes: 10\n"
          ]
        }
      ]
    },
    {
      "cell_type": "markdown",
      "metadata": {
        "id": "FLiAA5tI9TWH"
      },
      "source": [
        "# **Data Visualization**\n",
        "\n",
        "---\n",
        "\n"
      ]
    },
    {
      "cell_type": "code",
      "metadata": {
        "colab": {
          "base_uri": "https://localhost:8080/",
          "height": 339
        },
        "id": "_2_sG-nkMzNw",
        "outputId": "ebcbdbf5-e314-45de-a786-0f65d79f48b2"
      },
      "source": [
        "plt.rcParams['figure.figsize'] = (8, 5)\n",
        "plt.bar(train_df['label'].value_counts().index, train_df['label'].value_counts())\n",
        "plt.xticks(np.arange(n_class))\n",
        "plt.xlabel('Class', fontsize=16)\n",
        "plt.ylabel('Count', fontsize=16)\n",
        "plt.grid('on', axis='y')"
      ],
      "execution_count": 9,
      "outputs": [
        {
          "output_type": "display_data",
          "data": {
            "image/png": "[encoded data removed]",
            "text/plain": [
              "<Figure size 576x360 with 1 Axes>"
            ]
          },
          "metadata": {
            "needs_background": "light"
          }
        }
      ]
    },
    {
      "cell_type": "code",
      "metadata": {
        "colab": {
          "base_uri": "https://localhost:8080/",
          "height": 157
        },
        "id": "JgA6yiqQ650c",
        "outputId": "2adc9347-7f4f-4c3c-a9f1-67b098a3797f"
      },
      "source": [
        "random_sel = np.random.randint(n_train, size=8)\n",
        "\n",
        "grid = make_grid(torch.Tensor((train_df.iloc[random_sel, 1:].values/255.).reshape((-1, 28, 28))).unsqueeze(1), nrow=8)\n",
        "plt.rcParams['figure.figsize'] = (16, 2)\n",
        "plt.imshow(grid.numpy().transpose((1,2,0)))\n",
        "plt.axis('off')\n",
        "print(*list(train_df.iloc[random_sel, 0].values), sep = ', ')"
      ],
      "execution_count": 10,
      "outputs": [
        {
          "output_type": "stream",
          "name": "stdout",
          "text": [
            "7, 8, 5, 4, 8, 3, 0, 8\n"
          ]
        },
        {
          "output_type": "display_data",
          "data": {
            "image/png": "[encoded data removed]",
            "text/plain": [
              "<Figure size 1152x144 with 1 Axes>"
            ]
          },
          "metadata": {
            "needs_background": "light"
          }
        }
      ]
    },
    {
      "cell_type": "markdown",
      "metadata": {
        "id": "mdAwK4i9hSlj"
      },
      "source": [
        "# **Data Preprocessing**\n",
        "\n",
        "---\n",
        "\n"
      ]
    },
    {
      "cell_type": "code",
      "metadata": {
        "id": "telGPHINZJgx"
      },
      "source": [
        "class processDataset(Dataset):\n",
        "    \n",
        "    def __init__(self, file_path, \n",
        "                 transform = transforms.Compose([transforms.ToPILImage(), transforms.ToTensor(), \n",
        "                     transforms.Normalize(mean=(0.5,), std=(0.5,))])\n",
        "                ):\n",
        "        \n",
        "        df = pd.read_csv(file_path)\n",
        "        \n",
        "        # training data\n",
        "        self.X = df.iloc[:,1:].values.reshape((-1,28,28)).astype(np.uint8)[:,:,:,None]\n",
        "        self.y = torch.from_numpy(df.iloc[:,0].values)\n",
        "            \n",
        "        self.transform = transform\n",
        "    \n",
        "    def __len__(self):\n",
        "        return len(self.X)\n",
        "\n",
        "    def __getitem__(self, idx):\n",
        "        return self.transform(self.X[idx]), self.y[idx]"
      ],
      "execution_count": 11,
      "outputs": []
    },
    {
      "cell_type": "code",
      "metadata": {
        "id": "__Xdm56fcj1k"
      },
      "source": [
        "train_dataset = processDataset('verification_train.csv', transform= transforms.Compose(\n",
        "                            [transforms.ToPILImage(),\n",
        "                            transforms.ToTensor(), \n",
        "                            transforms.Normalize(mean=(0.5,), std=(0.5,))]))\n",
        "test_dataset = processDataset('verification_test.csv', transform= transforms.Compose(\n",
        "                            [transforms.ToPILImage(),\n",
        "                            transforms.ToTensor(), \n",
        "                            transforms.Normalize(mean=(0.5,), std=(0.5,))]))"
      ],
      "execution_count": 12,
      "outputs": []
    },
    {
      "cell_type": "code",
      "metadata": {
        "colab": {
          "base_uri": "https://localhost:8080/"
        },
        "id": "piGp-i0Johe6",
        "outputId": "472de06a-5a79-457f-a102-ab75079dc85a"
      },
      "source": [
        "print(len(train_dataset), len(test_dataset))"
      ],
      "execution_count": 13,
      "outputs": [
        {
          "output_type": "stream",
          "name": "stdout",
          "text": [
            "60000 10000\n"
          ]
        }
      ]
    },
    {
      "cell_type": "markdown",
      "metadata": {
        "id": "muXO0kOLMQ4_"
      },
      "source": [
        "# **EXP_03_model_1**\n",
        "\n",
        "---\n",
        "\n"
      ]
    },
    {
      "cell_type": "code",
      "metadata": {
        "id": "bLtFdOPL-DMD"
      },
      "source": [
        "# Hyperparameters\n",
        "batch_size = 20\n",
        "num_iters = 20000\n",
        "input_dim = 28*28\n",
        "output_dim = 10\n",
        "learning_rate = 0.01"
      ],
      "execution_count": 16,
      "outputs": []
    },
    {
      "cell_type": "code",
      "metadata": {
        "colab": {
          "base_uri": "https://localhost:8080/"
        },
        "id": "bRU8s_P69waA",
        "outputId": "a4ab3ac7-9d28-40f1-f288-a4d031deb081"
      },
      "source": [
        "\n",
        "\n",
        "device = torch.device(\"cuda:0\" if torch.cuda.is_available() else \"cpu\")\n",
        "\n",
        "num_epochs = num_iters / (len(train_dataset) / batch_size)\n",
        "num_epochs = int(num_epochs)\n",
        "\n",
        "train_loader = torch.utils.data.DataLoader(dataset=train_dataset, \n",
        "                                           batch_size=batch_size, \n",
        "                                           shuffle=True)\n",
        "\n",
        "test_loader = torch.utils.data.DataLoader(dataset=test_dataset, \n",
        "                                          batch_size=batch_size, \n",
        "                                          shuffle=False) \n",
        "\n",
        "class DeepNeuralNetworkModel(nn.Module):\n",
        "    def __init__(self, input_size, num_classes):\n",
        "        super().__init__()\n",
        "        self.linear_1 = nn.Linear(input_size,79)\n",
        "        self.relu_1 = nn.ReLU()\n",
        "\n",
        "        self.linear_2 = nn.Linear(79, 40)\n",
        "        self.relu_2 = nn.ReLU()\n",
        "\n",
        "        self.linear_3 = nn.Linear(40, 30)\n",
        "        self.relu_3 = nn.ReLU()\n",
        "\n",
        "        self.linear_4 = nn.Linear(30, 22)\n",
        "        self.relu_4 = nn.ReLU()\n",
        "\n",
        "        self.linear_5 = nn.Linear(22, 16)\n",
        "        self.relu_5 = nn.ReLU()\n",
        "\n",
        "        self.linear_6 = nn.Linear(16, 13)\n",
        "        self.relu_6 = nn.ReLU()\n",
        "\n",
        "        self.linear_out = nn.Linear(13, num_classes)\n",
        "\n",
        "    def forward(self, x):\n",
        "        \n",
        "        out  = self.linear_1(x)\n",
        "        out = self.relu_1(out)\n",
        "        \n",
        "        out  = self.linear_2(out)\n",
        "        out = self.relu_2(out)\n",
        "\n",
        "        out  = self.linear_3(out)\n",
        "        out = self.relu_3(out)\n",
        "\n",
        "        out  = self.linear_4(out)\n",
        "        out = self.relu_4(out)\n",
        "\n",
        "        out  = self.linear_5(out)\n",
        "        out = self.relu_5(out)\n",
        "\n",
        "        out  = self.linear_6(out)\n",
        "        out = self.relu_6(out)\n",
        "        \n",
        "        probas  = self.linear_out(out)\n",
        "        return probas\n",
        "\n",
        "# INSTANTIATE MODEL CLASS\n",
        "\n",
        "model = DeepNeuralNetworkModel(input_size = input_dim,\n",
        "                               num_classes = output_dim)\n",
        "# To enable GPU\n",
        "model.to(device)\n",
        "\n",
        "# INSTANTIATE LOSS & OPTIMIZER CLASS\n",
        "criterion = nn.CrossEntropyLoss()\n",
        "optimizer = torch.optim.SGD(model.parameters(), lr=learning_rate)\n",
        "\n",
        "iter = 0\n",
        "test_loss_min = 9999999\n",
        "iter_data,train_loss_data, test_loss_data, acc_data = [], [], [], []\n",
        "\n",
        "for epoch in range(num_epochs):\n",
        "    train_loss = 0.0\n",
        "    test_loss = 0.0\n",
        "    for i, (images, labels) in enumerate(train_loader):\n",
        "\n",
        "        images = images.view(-1, input_dim).to(device)\n",
        "        labels = labels.to(device)\n",
        "\n",
        "        # Clear gradients w.r.t. parameters\n",
        "        optimizer.zero_grad()\n",
        "\n",
        "        # Forward pass to get output/logits\n",
        "        outputs = model(images) \n",
        "\n",
        "        # Calculate Loss: softmax --> cross entropy loss\n",
        "        loss = criterion(outputs, labels)\n",
        "\n",
        "        # Getting gradients w.r.t. parameters\n",
        "        loss.backward()\n",
        "\n",
        "        # Updating parameters\n",
        "        optimizer.step()\n",
        "\n",
        "        train_loss += loss.item() * images.size(0)\n",
        "\n",
        "        iter += 1\n",
        "\n",
        "        if iter % 500 == 0:\n",
        "            # Calculate Accuracy         \n",
        "            correct = 0\n",
        "            total = 0\n",
        "            # Iterate through test dataset\n",
        "            for images, labels in test_loader:\n",
        "               \n",
        "                images = images.view(-1, input_dim).to(device)\n",
        "                labels = labels.to(device)\n",
        "\n",
        "                # Forward pass only to get logits/output\n",
        "                outputs = model(images)\n",
        "\n",
        "                loss = criterion(outputs, labels)\n",
        "\n",
        "                test_loss += loss.item() * images.size(0)\n",
        "\n",
        "                # Get predictions from the maximum value\n",
        "                _, predicted = torch.max(outputs, 1)\n",
        "\n",
        "                # Total number of labels\n",
        "                total += labels.size(0)\n",
        "\n",
        "\n",
        "                # Total correct predictions\n",
        "                if torch.cuda.is_available():\n",
        "                    correct += (predicted.cpu() == labels.cpu()).sum() \n",
        "                else:\n",
        "                    correct += (predicted == labels).sum()\n",
        "\n",
        "            train_loss = train_loss / len(train_loader.dataset)\n",
        "            test_loss = test_loss / len(test_loader.dataset)\n",
        "            train_loss_data.append(train_loss)\n",
        "            test_loss_data.append(test_loss)\n",
        "            accuracy = 100 * correct.item() / total\n",
        "            acc_data.append(accuracy)\n",
        "            iter_data.append(iter)\n",
        "\n",
        "            # Print Loss\n",
        "            print('Iteration: {}. Train_Loss: {}. Valid_Loss: {}. Accuracy: {}'.format(iter, train_loss, test_loss, accuracy))\n",
        "\n",
        "            if test_loss <= test_loss_min:\n",
        "              print('***Validation loss decreased ({:.6f} --> {:.6f}). Saving model ...***'.format(test_loss_min,test_loss))\n",
        "              torch.save(model.state_dict(), 'EXP_02_trial_2.pt')\n",
        "              test_loss_min = test_loss"
      ],
      "execution_count": 17,
      "outputs": [
        {
          "output_type": "stream",
          "name": "stdout",
          "text": [
            "Iteration: 500. Train_Loss: 0.38524372029304504. Valid_Loss: 2.3058805994987486. Accuracy: 10.0\n",
            "***Validation loss decreased (9999999.000000 --> 2.305881). Saving model ...***\n",
            "Iteration: 1000. Train_Loss: 0.3840729334723036. Valid_Loss: 2.3034375487380503. Accuracy: 9.99\n",
            "***Validation loss decreased (2.305881 --> 2.303438). Saving model ...***\n",
            "Iteration: 1500. Train_Loss: 0.38373946467495423. Valid_Loss: 2.30243543093978. Accuracy: 10.85\n",
            "***Validation loss decreased (2.303438 --> 2.302435). Saving model ...***\n",
            "Iteration: 2000. Train_Loss: 0.3836783132551974. Valid_Loss: 2.301385614732211. Accuracy: 10.01\n",
            "***Validation loss decreased (2.302435 --> 2.301386). Saving model ...***\n",
            "Iteration: 2500. Train_Loss: 0.38346262845788004. Valid_Loss: 2.3002562711450913. Accuracy: 10.0\n",
            "***Validation loss decreased (2.301386 --> 2.300256). Saving model ...***\n",
            "Iteration: 3000. Train_Loss: 0.38320259189143335. Valid_Loss: 2.297642847396829. Accuracy: 13.81\n",
            "***Validation loss decreased (2.300256 --> 2.297643). Saving model ...***\n",
            "Iteration: 3500. Train_Loss: 0.3823828131357829. Valid_Loss: 2.2889659395217894. Accuracy: 15.34\n",
            "***Validation loss decreased (2.297643 --> 2.288966). Saving model ...***\n",
            "Iteration: 4000. Train_Loss: 0.3781762481918441. Valid_Loss: 2.2210492152928354. Accuracy: 22.51\n",
            "***Validation loss decreased (2.288966 --> 2.221049). Saving model ...***\n",
            "Iteration: 4500. Train_Loss: 0.33226082975129484. Valid_Loss: 1.741692444458196. Accuracy: 24.16\n",
            "***Validation loss decreased (2.221049 --> 1.741692). Saving model ...***\n",
            "Iteration: 5000. Train_Loss: 0.254968329401522. Valid_Loss: 1.4702037257572784. Accuracy: 35.88\n",
            "***Validation loss decreased (1.741692 --> 1.470204). Saving model ...***\n",
            "Iteration: 5500. Train_Loss: 0.21270252348853702. Valid_Loss: 1.247888753089136. Accuracy: 49.95\n",
            "***Validation loss decreased (1.470204 --> 1.247889). Saving model ...***\n",
            "Iteration: 6000. Train_Loss: 0.1880487119517528. Valid_Loss: 1.023958447212902. Accuracy: 56.46\n",
            "***Validation loss decreased (1.247889 --> 1.023958). Saving model ...***\n",
            "Iteration: 6500. Train_Loss: 0.16686449873447418. Valid_Loss: 0.9315141785144806. Accuracy: 60.47\n",
            "***Validation loss decreased (1.023958 --> 0.931514). Saving model ...***\n",
            "Iteration: 7000. Train_Loss: 0.15234280166202585. Valid_Loss: 0.8655456240450145. Accuracy: 67.87\n",
            "***Validation loss decreased (0.931514 --> 0.865546). Saving model ...***\n",
            "Iteration: 7500. Train_Loss: 0.13590608252891853. Valid_Loss: 0.7478383325689582. Accuracy: 73.17\n",
            "***Validation loss decreased (0.865546 --> 0.747838). Saving model ...***\n",
            "Iteration: 8000. Train_Loss: 0.12215781870057414. Valid_Loss: 0.6796116500213062. Accuracy: 74.33\n",
            "***Validation loss decreased (0.747838 --> 0.679612). Saving model ...***\n",
            "Iteration: 8500. Train_Loss: 0.11393069389274758. Valid_Loss: 0.6753454029050381. Accuracy: 74.48\n",
            "***Validation loss decreased (0.679612 --> 0.675345). Saving model ...***\n",
            "Iteration: 9000. Train_Loss: 0.10422082626309044. Valid_Loss: 0.6542514885109612. Accuracy: 75.0\n",
            "***Validation loss decreased (0.675345 --> 0.654251). Saving model ...***\n",
            "Iteration: 9500. Train_Loss: 0.09874071715275447. Valid_Loss: 0.5756540987789631. Accuracy: 79.51\n",
            "***Validation loss decreased (0.654251 --> 0.575654). Saving model ...***\n",
            "Iteration: 10000. Train_Loss: 0.09768428897047009. Valid_Loss: 0.5633974892387181. Accuracy: 79.93\n",
            "***Validation loss decreased (0.575654 --> 0.563397). Saving model ...***\n",
            "Iteration: 10500. Train_Loss: 0.09377867044549769. Valid_Loss: 0.541247571387117. Accuracy: 80.39\n",
            "***Validation loss decreased (0.563397 --> 0.541248). Saving model ...***\n",
            "Iteration: 11000. Train_Loss: 0.08967415929338361. Valid_Loss: 0.5499526431108394. Accuracy: 79.77\n",
            "Iteration: 11500. Train_Loss: 0.08729969941351819. Valid_Loss: 0.48357113669385454. Accuracy: 83.36\n",
            "***Validation loss decreased (0.541248 --> 0.483571). Saving model ...***\n",
            "Iteration: 12000. Train_Loss: 0.0862527371703722. Valid_Loss: 0.514920468344758. Accuracy: 81.2\n",
            "Iteration: 12500. Train_Loss: 0.0781641799112161. Valid_Loss: 0.4939400964379311. Accuracy: 83.05\n",
            "Iteration: 13000. Train_Loss: 0.08201590463998898. Valid_Loss: 0.4876789692025721. Accuracy: 82.58\n",
            "Iteration: 13500. Train_Loss: 0.078326693004417. Valid_Loss: 0.5909521704340277. Accuracy: 78.19\n",
            "Iteration: 14000. Train_Loss: 0.07787049908573142. Valid_Loss: 0.4855650871974769. Accuracy: 83.13\n",
            "Iteration: 14500. Train_Loss: 0.07853647581009388. Valid_Loss: 0.4403802611997722. Accuracy: 84.3\n",
            "***Validation loss decreased (0.483571 --> 0.440380). Saving model ...***\n",
            "Iteration: 15000. Train_Loss: 0.07667389916471497. Valid_Loss: 0.506827536238815. Accuracy: 81.5\n",
            "Iteration: 15500. Train_Loss: 0.07330042403688034. Valid_Loss: 0.42771173183619976. Accuracy: 85.09\n",
            "***Validation loss decreased (0.440380 --> 0.427712). Saving model ...***\n",
            "Iteration: 16000. Train_Loss: 0.07064539253790872. Valid_Loss: 0.5120766072101042. Accuracy: 82.45\n",
            "Iteration: 16500. Train_Loss: 0.07364528137496115. Valid_Loss: 0.44791536928622555. Accuracy: 84.09\n",
            "Iteration: 17000. Train_Loss: 0.07392213831001818. Valid_Loss: 0.42337239134550236. Accuracy: 84.87\n",
            "***Validation loss decreased (0.427712 --> 0.423372). Saving model ...***\n",
            "Iteration: 17500. Train_Loss: 0.0701741579499658. Valid_Loss: 0.41244352713261867. Accuracy: 85.48\n",
            "***Validation loss decreased (0.423372 --> 0.412444). Saving model ...***\n",
            "Iteration: 18000. Train_Loss: 0.06869342938140587. Valid_Loss: 0.45683291966702044. Accuracy: 83.73\n"
          ]
        }
      ]
    },
    {
      "cell_type": "markdown",
      "metadata": {
        "id": "59bFd5eI3dOh"
      },
      "source": [
        "## **Loss Graph**\n",
        "\n",
        "---\n",
        "\n"
      ]
    },
    {
      "cell_type": "code",
      "metadata": {
        "id": "o2z5ysMtLrf5",
        "colab": {
          "base_uri": "https://localhost:8080/",
          "height": 187
        },
        "outputId": "5cef92bd-62f5-4abb-fcf5-bd4db87c016e"
      },
      "source": [
        "import matplotlib.pyplot as plt\n",
        "plt.plot(iter_data, train_loss_data, 'c', label='Training loss')\n",
        "plt.plot(iter_data, test_loss_data, 'm', label='validation loss')\n",
        "plt.title('Training and Validation loss')\n",
        "plt.xlabel('Iteration')\n",
        "plt.ylabel('Loss')\n",
        "plt.legend()\n",
        "plt.show()"
      ],
      "execution_count": 18,
      "outputs": [
        {
          "output_type": "display_data",
          "data": {
            "image/png": "[encoded data removed]",
            "text/plain": [
              "<Figure size 1152x144 with 1 Axes>"
            ]
          },
          "metadata": {
            "needs_background": "light"
          }
        }
      ]
    },
    {
      "cell_type": "markdown",
      "metadata": {
        "id": "8Ln4MpL_8CQE"
      },
      "source": [
        "## **Accuracy Graph**\n",
        "\n",
        "---\n",
        "\n"
      ]
    },
    {
      "cell_type": "code",
      "metadata": {
        "colab": {
          "base_uri": "https://localhost:8080/",
          "height": 187
        },
        "id": "x4c3euLUKVmR",
        "outputId": "710e6fa8-0d31-4b52-c2fe-bb265b11dbb7"
      },
      "source": [
        "import numpy as np\n",
        "import matplotlib.pyplot as plt\n",
        "plt.plot(iter_data, acc_data, 'g', label='Accuracy')\n",
        "plt.title('Accuracy Graph')\n",
        "plt.xlabel('Iteration')\n",
        "plt.ylabel('Accuracy')\n",
        "plt.legend()\n",
        "plt.show()"
      ],
      "execution_count": 19,
      "outputs": [
        {
          "output_type": "display_data",
          "data": {
            "image/png": "[encoded data removed]",
            "text/plain": [
              "<Figure size 1152x144 with 1 Axes>"
            ]
          },
          "metadata": {
            "needs_background": "light"
          }
        }
      ]
    },
    {
      "cell_type": "markdown",
      "metadata": {
        "id": "ooaWornKkW2d"
      },
      "source": [
        "# **EXP_03_model_2**\n",
        "\n",
        "---\n",
        "\n"
      ]
    },
    {
      "cell_type": "code",
      "metadata": {
        "id": "Beni7LRjkdTr"
      },
      "source": [
        "# Hyperparameters\n",
        "batch_size = 64\n",
        "num_iters = 70000\n",
        "input_dim = 28*28\n",
        "output_dim = 10\n",
        "learning_rate = 0.05"
      ],
      "execution_count": 22,
      "outputs": []
    },
    {
      "cell_type": "code",
      "metadata": {
        "colab": {
          "base_uri": "https://localhost:8080/"
        },
        "id": "k7N6wsEtki3o",
        "outputId": "ea90aa5f-f585-48bc-886b-202b4360e4ae"
      },
      "source": [
        "\n",
        "device = torch.device(\"cuda:0\" if torch.cuda.is_available() else \"cpu\")\n",
        "\n",
        "num_epochs = num_iters / (len(train_dataset) / batch_size)\n",
        "num_epochs = int(num_epochs)\n",
        "\n",
        "train_loader = torch.utils.data.DataLoader(dataset=train_dataset, \n",
        "                                           batch_size=batch_size, \n",
        "                                           shuffle=True)\n",
        "\n",
        "test_loader = torch.utils.data.DataLoader(dataset=test_dataset, \n",
        "                                          batch_size=batch_size, \n",
        "                                          shuffle=False) \n",
        "\n",
        "class DeepNeuralNetworkModel(nn.Module):\n",
        "    def __init__(self, input_size, num_classes):\n",
        "        super().__init__()\n",
        "        self.linear_1 = nn.Linear(input_size, 512)\n",
        "        self.relu_1 = nn.ReLU()\n",
        "\n",
        "        self.linear_2 = nn.Linear(512,128)\n",
        "        self.relu_2 = nn.ReLU()\n",
        "\n",
        "        self.linear_3 = nn.Linear(128,32)\n",
        "        self.relu_3 = nn.ReLU()\n",
        "\n",
        "\n",
        "        self.linear_out = nn.Linear(32, num_classes)\n",
        "        self.relu_out = nn.ReLU()\n",
        "\n",
        "    def forward(self, x):\n",
        "        \n",
        "        out  = self.linear_1(x)\n",
        "        out = self.relu_1(out)\n",
        "        \n",
        "        out  = self.linear_2(out)\n",
        "        out = self.relu_2(out)\n",
        "\n",
        "        out  = self.linear_3(out)\n",
        "        out = self.relu_3(out)\n",
        "        \n",
        "        \n",
        "        probas  = self.linear_out(out)\n",
        "        probas  = self.relu_out(out)\n",
        "        return probas\n",
        "\n",
        "# INSTANTIATE MODEL CLASS\n",
        "\n",
        "model = DeepNeuralNetworkModel(input_size = input_dim,\n",
        "                               num_classes = output_dim)\n",
        "# To enable GPU\n",
        "model.to(device)\n",
        "\n",
        "# INSTANTIATE LOSS & OPTIMIZER CLASS\n",
        "criterion = nn.CrossEntropyLoss()\n",
        "optimizer = torch.optim.SGD(model.parameters(), lr=learning_rate)\n",
        "\n",
        "iter = 0\n",
        "test_loss_min = 9999999\n",
        "iter_data,train_loss_data, test_loss_data, acc_data = [], [], [], []\n",
        "\n",
        "for epoch in range(num_epochs):\n",
        "    train_loss = 0.0\n",
        "    test_loss = 0.0\n",
        "    for i, (images, labels) in enumerate(train_loader):\n",
        "\n",
        "        images = images.view(-1, input_dim).to(device)\n",
        "        labels = labels.to(device)\n",
        "\n",
        "        # Clear gradients w.r.t. parameters\n",
        "        optimizer.zero_grad()\n",
        "\n",
        "        # Forward pass to get output/logits\n",
        "        outputs = model(images) \n",
        "\n",
        "        # Calculate Loss: softmax --> cross entropy loss\n",
        "        loss = criterion(outputs, labels)\n",
        "\n",
        "        # Getting gradients w.r.t. parameters\n",
        "        loss.backward()\n",
        "\n",
        "        # Updating parameters\n",
        "        optimizer.step()\n",
        "\n",
        "        train_loss += loss.item() * images.size(0)\n",
        "\n",
        "        iter += 1\n",
        "\n",
        "        if iter % 500 == 0:\n",
        "            # Calculate Accuracy         \n",
        "            correct = 0\n",
        "            total = 0\n",
        "            # Iterate through test dataset\n",
        "            for images, labels in test_loader:\n",
        "               \n",
        "                images = images.view(-1, input_dim).to(device)\n",
        "                labels = labels.to(device)\n",
        "\n",
        "                # Forward pass only to get logits/output\n",
        "                outputs = model(images)\n",
        "\n",
        "                loss = criterion(outputs, labels)\n",
        "\n",
        "                test_loss += loss.item() * images.size(0)\n",
        "\n",
        "                # Get predictions from the maximum value\n",
        "                _, predicted = torch.max(outputs, 1)\n",
        "\n",
        "                # Total number of labels\n",
        "                total += labels.size(0)\n",
        "\n",
        "\n",
        "                # Total correct predictions\n",
        "                if torch.cuda.is_available():\n",
        "                    correct += (predicted.cpu() == labels.cpu()).sum() \n",
        "                else:\n",
        "                    correct += (predicted == labels).sum()\n",
        "\n",
        "            train_loss = train_loss / len(train_loader.dataset)\n",
        "            test_loss = test_loss / len(test_loader.dataset)\n",
        "            train_loss_data.append(train_loss)\n",
        "            test_loss_data.append(test_loss)\n",
        "            accuracy = 100 * correct.item() / total\n",
        "            acc_data.append(accuracy)\n",
        "            iter_data.append(iter)\n",
        "\n",
        "            # Print Loss\n",
        "            print('Iteration: {}. Train_Loss: {}. Valid_Loss: {}. Accuracy: {}'.format(iter, train_loss, test_loss, accuracy))\n",
        "\n",
        "            if test_loss <= test_loss_min:\n",
        "              print('***Validation loss decreased ({:.6f} --> {:.6f}). Saving model ...***'.format(test_loss_min,test_loss))\n",
        "              torch.save(model.state_dict(), 'EXP_02_trial_2.pt')\n",
        "              test_loss_min = test_loss"
      ],
      "execution_count": 23,
      "outputs": [
        {
          "output_type": "stream",
          "name": "stdout",
          "text": [
            "Iteration: 500. Train_Loss: 0.5902462930997213. Valid_Loss: 0.8723572267532349. Accuracy: 75.48\n",
            "***Validation loss decreased (9999999.000000 --> 0.872357). Saving model ...***\n",
            "Iteration: 1000. Train_Loss: 0.03237736307779948. Valid_Loss: 0.4702292806148529. Accuracy: 83.88\n",
            "***Validation loss decreased (0.872357 --> 0.470229). Saving model ...***\n",
            "Iteration: 1500. Train_Loss: 0.23752473427654688. Valid_Loss: 0.4157781936300421. Accuracy: 85.29\n",
            "***Validation loss decreased (0.470229 --> 0.415778). Saving model ...***\n",
            "Iteration: 2000. Train_Loss: 0.05197859843571981. Valid_Loss: 0.4868652464866638. Accuracy: 81.71\n",
            "Iteration: 2500. Train_Loss: 0.20551719907142058. Valid_Loss: 0.38089834320189475. Accuracy: 86.21\n",
            "***Validation loss decreased (0.415778 --> 0.380898). Saving model ...***\n",
            "Iteration: 3000. Train_Loss: 0.0692688667456309. Valid_Loss: 0.36880976424217227. Accuracy: 86.74\n",
            "***Validation loss decreased (0.380898 --> 0.368810). Saving model ...***\n",
            "Iteration: 3500. Train_Loss: 0.18870998386814145. Valid_Loss: 0.40504143942044735. Accuracy: 85.32\n",
            "Iteration: 4000. Train_Loss: 0.08939612216949464. Valid_Loss: 0.3404746662378311. Accuracy: 87.36\n",
            "***Validation loss decreased (0.368810 --> 0.340475). Saving model ...***\n",
            "Iteration: 4500. Train_Loss: 0.17582600892588615. Valid_Loss: 0.3473636200488686. Accuracy: 87.33\n",
            "Iteration: 5000. Train_Loss: 0.10282783021926879. Valid_Loss: 0.3355285210847855. Accuracy: 88.08\n",
            "***Validation loss decreased (0.340475 --> 0.335529). Saving model ...***\n",
            "Iteration: 5500. Train_Loss: 0.16785792055598733. Valid_Loss: 0.33505144630952116. Accuracy: 87.82\n",
            "***Validation loss decreased (0.335529 --> 0.335051). Saving model ...***\n",
            "Iteration: 6000. Train_Loss: 0.11781311255296072. Valid_Loss: 0.33831011514663695. Accuracy: 87.66\n",
            "Iteration: 6500. Train_Loss: 0.1566864949783056. Valid_Loss: 0.3316137040726948. Accuracy: 87.98\n",
            "***Validation loss decreased (0.335051 --> 0.331614). Saving model ...***\n",
            "Iteration: 7000. Train_Loss: 0.13051693773269654. Valid_Loss: 0.3172811831831932. Accuracy: 88.69\n",
            "***Validation loss decreased (0.331614 --> 0.317281). Saving model ...***\n",
            "Iteration: 7500. Train_Loss: 0.1501874204942147. Valid_Loss: 0.29461153882111907. Accuracy: 89.25\n",
            "***Validation loss decreased (0.317281 --> 0.294612). Saving model ...***\n",
            "Iteration: 8000. Train_Loss: 0.14026337215900422. Valid_Loss: 0.30439882135391233. Accuracy: 88.6\n",
            "Iteration: 8500. Train_Loss: 0.014838847986857097. Valid_Loss: 0.30999326783418657. Accuracy: 88.86\n",
            "Iteration: 9000. Train_Loss: 0.13738336918608135. Valid_Loss: 0.3151832958937466. Accuracy: 88.56\n",
            "Iteration: 9500. Train_Loss: 0.030293084200223287. Valid_Loss: 0.3007401070356369. Accuracy: 88.88\n",
            "Iteration: 10000. Train_Loss: 0.13359333439033919. Valid_Loss: 0.3137109468205905. Accuracy: 88.53\n",
            "Iteration: 10500. Train_Loss: 0.04702975399494171. Valid_Loss: 0.29427096457481383. Accuracy: 89.39\n",
            "***Validation loss decreased (0.294612 --> 0.294271). Saving model ...***\n",
            "Iteration: 11000. Train_Loss: 0.12772919546002268. Valid_Loss: 0.3083792077990484. Accuracy: 89.05\n",
            "Iteration: 11500. Train_Loss: 0.05698835057020187. Valid_Loss: 0.2995142608642578. Accuracy: 89.05\n",
            "Iteration: 12000. Train_Loss: 0.12471353306161066. Valid_Loss: 0.28176434899240493. Accuracy: 89.95\n",
            "***Validation loss decreased (0.294271 --> 0.281764). Saving model ...***\n",
            "Iteration: 12500. Train_Loss: 0.07351972189744313. Valid_Loss: 0.2943441611289978. Accuracy: 89.27\n",
            "Iteration: 13000. Train_Loss: 0.1194212382875428. Valid_Loss: 0.2936347235177135. Accuracy: 89.14\n",
            "Iteration: 13500. Train_Loss: 0.08415767305692037. Valid_Loss: 0.29367707750797273. Accuracy: 89.42\n",
            "Iteration: 14000. Train_Loss: 0.11457163192377381. Valid_Loss: 0.2844558893785691. Accuracy: 89.83\n",
            "Iteration: 14500. Train_Loss: 0.09430081933339436. Valid_Loss: 0.2939710111618042. Accuracy: 89.26\n",
            "Iteration: 15000. Train_Loss: 0.11142207581322883. Valid_Loss: 0.3051357997962952. Accuracy: 88.84\n",
            "Iteration: 15500. Train_Loss: 0.10341599354346594. Valid_Loss: 0.2924903028011322. Accuracy: 89.33\n",
            "Iteration: 16000. Train_Loss: 0.011255188210805258. Valid_Loss: 0.285188315474987. Accuracy: 89.9\n",
            "Iteration: 16500. Train_Loss: 0.10207601911894851. Valid_Loss: 0.30529037811737897. Accuracy: 89.03\n",
            "Iteration: 17000. Train_Loss: 0.02195278749068578. Valid_Loss: 0.2888903677225113. Accuracy: 89.52\n",
            "Iteration: 17500. Train_Loss: 0.10101500524546457. Valid_Loss: 0.30493993301450967. Accuracy: 89.2\n",
            "Iteration: 18000. Train_Loss: 0.034162867820262906. Valid_Loss: 0.29094054822921755. Accuracy: 89.53\n",
            "Iteration: 18500. Train_Loss: 0.09561097753625372. Valid_Loss: 0.28879340157759664. Accuracy: 89.82\n",
            "Iteration: 19000. Train_Loss: 0.04326201285918554. Valid_Loss: 0.2972099994659424. Accuracy: 89.66\n",
            "Iteration: 19500. Train_Loss: 0.09535945552998219. Valid_Loss: 0.29965541684841157. Accuracy: 89.65\n",
            "Iteration: 20000. Train_Loss: 0.05077037709951401. Valid_Loss: 0.3295150177001953. Accuracy: 88.65\n",
            "Iteration: 20500. Train_Loss: 0.0897620021637112. Valid_Loss: 0.30058370926753997. Accuracy: 89.72\n",
            "Iteration: 21000. Train_Loss: 0.06127029998501142. Valid_Loss: 0.2956707819223404. Accuracy: 89.75\n",
            "Iteration: 21500. Train_Loss: 0.08648573019013528. Valid_Loss: 0.31589679663522957. Accuracy: 88.98\n",
            "Iteration: 22000. Train_Loss: 0.06880211079319318. Valid_Loss: 0.2981756126880646. Accuracy: 89.66\n",
            "Iteration: 22500. Train_Loss: 0.08461260143505933. Valid_Loss: 0.30453598003780846. Accuracy: 89.56\n",
            "Iteration: 23000. Train_Loss: 0.07738119547168414. Valid_Loss: 0.3125024817943573. Accuracy: 89.65\n",
            "Iteration: 23500. Train_Loss: 0.007656110735734304. Valid_Loss: 0.29689499876499176. Accuracy: 89.84\n",
            "Iteration: 24000. Train_Loss: 0.07640423932296389. Valid_Loss: 0.30826790876104593. Accuracy: 89.69\n",
            "Iteration: 24500. Train_Loss: 0.017049866676330565. Valid_Loss: 0.30466070721149446. Accuracy: 89.51\n",
            "Iteration: 25000. Train_Loss: 0.07324679030507404. Valid_Loss: 0.30653815275723695. Accuracy: 89.74\n",
            "Iteration: 25500. Train_Loss: 0.023123681046565373. Valid_Loss: 0.3039191407442093. Accuracy: 90.03\n",
            "Iteration: 26000. Train_Loss: 0.07290466304122571. Valid_Loss: 0.31481362564009907. Accuracy: 89.88\n",
            "Iteration: 26500. Train_Loss: 0.032074980386098226. Valid_Loss: 0.3163541970729828. Accuracy: 89.73\n",
            "Iteration: 27000. Train_Loss: 0.06888411702997896. Valid_Loss: 0.32286753007588864. Accuracy: 89.98\n",
            "Iteration: 27500. Train_Loss: 0.03844771805604299. Valid_Loss: 0.3154987239599228. Accuracy: 90.05\n",
            "Iteration: 28000. Train_Loss: 0.06902076301939342. Valid_Loss: 0.3249570896997428. Accuracy: 89.8\n",
            "Iteration: 28500. Train_Loss: 0.04474318128824234. Valid_Loss: 0.3185215337753296. Accuracy: 90.08\n",
            "Iteration: 29000. Train_Loss: 0.0660959782262812. Valid_Loss: 0.3256794335876274. Accuracy: 90.0\n",
            "Iteration: 29500. Train_Loss: 0.051174058596293134. Valid_Loss: 0.33995477917194367. Accuracy: 90.12\n",
            "Iteration: 30000. Train_Loss: 0.06460693597618208. Valid_Loss: 0.3187954141542935. Accuracy: 90.04\n",
            "Iteration: 30500. Train_Loss: 0.05744990985790888. Valid_Loss: 0.3433462444782257. Accuracy: 89.71\n",
            "Iteration: 31000. Train_Loss: 0.004106565471490224. Valid_Loss: 0.3470678694486618. Accuracy: 89.21\n",
            "Iteration: 31500. Train_Loss: 0.05553794462952607. Valid_Loss: 0.3305346323288226. Accuracy: 89.91\n",
            "Iteration: 32000. Train_Loss: 0.01153869751493136. Valid_Loss: 0.334292130446434. Accuracy: 90.01\n",
            "Iteration: 32500. Train_Loss: 0.05344864537837164. Valid_Loss: 0.351272235603807. Accuracy: 89.69\n",
            "Iteration: 33000. Train_Loss: 0.016328741698463756. Valid_Loss: 0.34609272251129153. Accuracy: 89.73\n",
            "Iteration: 33500. Train_Loss: 0.05333774970851986. Valid_Loss: 0.36448184434391023. Accuracy: 89.59\n",
            "Iteration: 34000. Train_Loss: 0.02334282805522283. Valid_Loss: 0.33956573820114133. Accuracy: 89.91\n",
            "Iteration: 34500. Train_Loss: 0.05057014741963976. Valid_Loss: 0.36808146591029167. Accuracy: 89.75\n",
            "Iteration: 35000. Train_Loss: 0.029097321848074596. Valid_Loss: 0.3539994699239731. Accuracy: 89.96\n",
            "Iteration: 35500. Train_Loss: 0.04887496443892883. Valid_Loss: 0.3407860924337554. Accuracy: 89.98\n",
            "Iteration: 36000. Train_Loss: 0.03122983339826266. Valid_Loss: 0.385529035782814. Accuracy: 89.02\n",
            "Iteration: 36500. Train_Loss: 0.049656049453874994. Valid_Loss: 0.3377109880680299. Accuracy: 90.1\n",
            "Iteration: 37000. Train_Loss: 0.03869891058206558. Valid_Loss: 0.3522671468734741. Accuracy: 90.23\n",
            "Iteration: 37500. Train_Loss: 0.046626164497913715. Valid_Loss: 0.3511560469628143. Accuracy: 90.04\n",
            "Iteration: 38000. Train_Loss: 0.03959384652078152. Valid_Loss: 0.36842342731952665. Accuracy: 89.7\n",
            "Iteration: 38500. Train_Loss: 0.0032135926445325215. Valid_Loss: 0.37424803910255433. Accuracy: 89.93\n",
            "Iteration: 39000. Train_Loss: 0.04168489291929993. Valid_Loss: 0.39991467042082307. Accuracy: 89.29\n",
            "Iteration: 39500. Train_Loss: 0.00840325267414252. Valid_Loss: 0.3718382622241974. Accuracy: 90.12\n",
            "Iteration: 40000. Train_Loss: 0.039321051108027714. Valid_Loss: 0.36499798905159475. Accuracy: 89.95\n",
            "Iteration: 40500. Train_Loss: 0.012490642488002777. Valid_Loss: 0.388000483417511. Accuracy: 89.54\n",
            "Iteration: 41000. Train_Loss: 0.03961279295703471. Valid_Loss: 0.3963010366673374. Accuracy: 89.54\n",
            "Iteration: 41500. Train_Loss: 0.01443837516506513. Valid_Loss: 0.36023415410518644. Accuracy: 90.3\n",
            "Iteration: 42000. Train_Loss: 0.0472336153951673. Valid_Loss: 0.3710569207085014. Accuracy: 89.62\n",
            "Iteration: 42500. Train_Loss: 0.021448759759465853. Valid_Loss: 0.37858063921928403. Accuracy: 89.89\n",
            "Iteration: 43000. Train_Loss: 0.039308828919604834. Valid_Loss: 0.4154515098163938. Accuracy: 89.32\n",
            "Iteration: 43500. Train_Loss: 0.0244783670792977. Valid_Loss: 0.40060310754776. Accuracy: 89.99\n",
            "Iteration: 44000. Train_Loss: 0.03709402081603985. Valid_Loss: 0.3860773497394657. Accuracy: 90.05\n",
            "Iteration: 44500. Train_Loss: 0.02657928954536716. Valid_Loss: 0.3941106722831726. Accuracy: 89.74\n",
            "Iteration: 45000. Train_Loss: 0.03413653168179773. Valid_Loss: 0.45216063921378136. Accuracy: 89.22\n",
            "Iteration: 45500. Train_Loss: 0.0316779649918278. Valid_Loss: 0.3799871064186096. Accuracy: 90.42\n",
            "Iteration: 46000. Train_Loss: 0.002366432362794876. Valid_Loss: 0.41693330528736117. Accuracy: 90.07\n",
            "Iteration: 46500. Train_Loss: 0.0322394636602669. Valid_Loss: 0.40123619268012284. Accuracy: 90.2\n",
            "Iteration: 47000. Train_Loss: 0.005859673270583152. Valid_Loss: 0.396350212097168. Accuracy: 90.42\n",
            "Iteration: 47500. Train_Loss: 0.026781837395334393. Valid_Loss: 0.39647071417045593. Accuracy: 89.84\n",
            "Iteration: 48000. Train_Loss: 0.00796077195207278. Valid_Loss: 0.394854416847229. Accuracy: 90.29\n",
            "Iteration: 48500. Train_Loss: 0.028256508545667497. Valid_Loss: 0.4018852045884132. Accuracy: 90.22\n",
            "Iteration: 49000. Train_Loss: 0.012963270776967208. Valid_Loss: 0.41627178835868833. Accuracy: 90.11\n",
            "Iteration: 49500. Train_Loss: 0.027321027420802804. Valid_Loss: 0.4364279395443678. Accuracy: 89.59\n",
            "Iteration: 50000. Train_Loss: 0.01324213744526108. Valid_Loss: 0.4455657266139984. Accuracy: 89.65\n",
            "Iteration: 50500. Train_Loss: 0.025165413148900095. Valid_Loss: 0.4202624450471258. Accuracy: 89.83\n",
            "Iteration: 51000. Train_Loss: 0.016480542176465194. Valid_Loss: 0.4285342804670334. Accuracy: 90.03\n",
            "Iteration: 51500. Train_Loss: 0.02478335423183033. Valid_Loss: 0.4248949107419658. Accuracy: 89.56\n",
            "Iteration: 52000. Train_Loss: 0.019783129036736985. Valid_Loss: 0.42018333916664125. Accuracy: 90.63\n",
            "Iteration: 52500. Train_Loss: 0.024832416472662495. Valid_Loss: 0.41793431746149545. Accuracy: 90.4\n",
            "Iteration: 53000. Train_Loss: 0.019691412835816543. Valid_Loss: 0.42442769796848295. Accuracy: 90.29\n",
            "Iteration: 53500. Train_Loss: 0.0014744740704695383. Valid_Loss: 0.44334596078395844. Accuracy: 90.0\n",
            "Iteration: 54000. Train_Loss: 0.020839350099186072. Valid_Loss: 0.5165191080984283. Accuracy: 89.04\n",
            "Iteration: 54500. Train_Loss: 0.0037978153926630817. Valid_Loss: 0.4291301471471787. Accuracy: 90.11\n",
            "Iteration: 55000. Train_Loss: 0.021411538906041954. Valid_Loss: 0.43099990485412365. Accuracy: 90.31\n",
            "Iteration: 55500. Train_Loss: 0.0067911572982867555. Valid_Loss: 0.4953477074146271. Accuracy: 89.29\n",
            "Iteration: 56000. Train_Loss: 0.01960735738373089. Valid_Loss: 0.47568731310059065. Accuracy: 89.8\n",
            "Iteration: 56500. Train_Loss: 0.006104084617892901. Valid_Loss: 0.46533525946736337. Accuracy: 90.4\n",
            "Iteration: 57000. Train_Loss: 0.01767126610233994. Valid_Loss: 0.4480195403466254. Accuracy: 90.51\n",
            "Iteration: 57500. Train_Loss: 0.008533778030176957. Valid_Loss: 0.4649916383743286. Accuracy: 90.59\n",
            "Iteration: 58000. Train_Loss: 0.01979388312254082. Valid_Loss: 0.4643707282373619. Accuracy: 90.12\n",
            "Iteration: 58500. Train_Loss: 0.012550002487500508. Valid_Loss: 0.46037738218307495. Accuracy: 90.32\n",
            "Iteration: 59000. Train_Loss: 0.015581065193417204. Valid_Loss: 0.4705437878655339. Accuracy: 90.36\n",
            "Iteration: 59500. Train_Loss: 0.013277730061734716. Valid_Loss: 0.4574066599845886. Accuracy: 90.36\n",
            "Iteration: 60000. Train_Loss: 0.017521902430773017. Valid_Loss: 0.5000794726749325. Accuracy: 89.95\n",
            "Iteration: 60500. Train_Loss: 0.015029755579431852. Valid_Loss: 0.46657887134552. Accuracy: 90.47\n",
            "Iteration: 61000. Train_Loss: 0.0005967852589984735. Valid_Loss: 0.47747222435474396. Accuracy: 90.44\n",
            "Iteration: 61500. Train_Loss: 0.01277530996640046. Valid_Loss: 0.47562709954167603. Accuracy: 90.57\n",
            "Iteration: 62000. Train_Loss: 0.0013734726582964262. Valid_Loss: 0.48316783730387686. Accuracy: 90.43\n",
            "Iteration: 62500. Train_Loss: 0.012473571112799106. Valid_Loss: 0.48224438497525873. Accuracy: 90.22\n",
            "Iteration: 63000. Train_Loss: 0.004333982379486163. Valid_Loss: 0.47062135046720505. Accuracy: 90.59\n",
            "Iteration: 63500. Train_Loss: 0.011280812059997041. Valid_Loss: 0.4859170723679721. Accuracy: 90.4\n",
            "Iteration: 64000. Train_Loss: 0.005539664922902981. Valid_Loss: 0.4819002432346344. Accuracy: 90.74\n",
            "Iteration: 64500. Train_Loss: 0.012548610598499555. Valid_Loss: 0.4989689586429071. Accuracy: 90.39\n",
            "Iteration: 65000. Train_Loss: 0.005508601645256082. Valid_Loss: 0.5042602375626564. Accuracy: 90.26\n",
            "Iteration: 65500. Train_Loss: 0.00931543048291123. Valid_Loss: 0.5154262975151884. Accuracy: 90.31\n",
            "Iteration: 66000. Train_Loss: 0.004354934293838839. Valid_Loss: 0.5148543749451637. Accuracy: 90.37\n",
            "Iteration: 66500. Train_Loss: 0.010693686069844478. Valid_Loss: 0.5159867988291801. Accuracy: 90.38\n",
            "Iteration: 67000. Train_Loss: 0.006328677267953753. Valid_Loss: 0.5089551468968392. Accuracy: 90.3\n",
            "Iteration: 67500. Train_Loss: 0.009582183825930474. Valid_Loss: 0.499977392366134. Accuracy: 90.2\n",
            "Iteration: 68000. Train_Loss: 0.009590292895585299. Valid_Loss: 0.5275872955441475. Accuracy: 90.41\n",
            "Iteration: 68500. Train_Loss: 0.0004483496919895212. Valid_Loss: 0.504580433511734. Accuracy: 90.57\n",
            "Iteration: 69000. Train_Loss: 0.013360892798810826. Valid_Loss: 0.5301598182137155. Accuracy: 90.09\n"
          ]
        }
      ]
    },
    {
      "cell_type": "markdown",
      "metadata": {
        "id": "r3OkI1J875jn"
      },
      "source": [
        "## **Loss Graph**\n",
        "\n",
        "---\n",
        "\n"
      ]
    },
    {
      "cell_type": "code",
      "metadata": {
        "colab": {
          "base_uri": "https://localhost:8080/",
          "height": 187
        },
        "id": "zDeq1QZ5tuah",
        "outputId": "be8f6ca8-5346-40de-f3e8-7b29708fe576"
      },
      "source": [
        "import matplotlib.pyplot as plt\n",
        "plt.plot(iter_data, train_loss_data, 'c', label='Training loss')\n",
        "plt.plot(iter_data, test_loss_data, 'm', label='validation loss')\n",
        "plt.title('Training and Validation loss')\n",
        "plt.xlabel('Iteration')\n",
        "plt.ylabel('Loss')\n",
        "plt.legend()\n",
        "plt.show()"
      ],
      "execution_count": 24,
      "outputs": [
        {
          "output_type": "display_data",
          "data": {
            "image/png": "[encoded data removed]",
            "text/plain": [
              "<Figure size 1152x144 with 1 Axes>"
            ]
          },
          "metadata": {
            "needs_background": "light"
          }
        }
      ]
    },
    {
      "cell_type": "markdown",
      "metadata": {
        "id": "6UZqwEqK3oOt"
      },
      "source": [
        "## **Accuracy Graph**\n",
        "\n",
        "---\n",
        "\n"
      ]
    },
    {
      "cell_type": "code",
      "metadata": {
        "colab": {
          "base_uri": "https://localhost:8080/",
          "height": 187
        },
        "id": "vcoK6poKtxlM",
        "outputId": "7d7b3cd6-cbf2-4cc3-a48d-c38744e98377"
      },
      "source": [
        "import numpy as np\n",
        "import matplotlib.pyplot as plt\n",
        "plt.plot(iter_data, acc_data, 'g', label='Accuracy')\n",
        "plt.title('Accuracy Graph')\n",
        "plt.xlabel('Iteration')\n",
        "plt.ylabel('Accuracy')\n",
        "plt.legend()\n",
        "plt.show()"
      ],
      "execution_count": 25,
      "outputs": [
        {
          "output_type": "display_data",
          "data": {
            "image/png": "[encoded data removed]",
            "text/plain": [
              "<Figure size 1152x144 with 1 Axes>"
            ]
          },
          "metadata": {
            "needs_background": "light"
          }
        }
      ]
    }
  ]
}