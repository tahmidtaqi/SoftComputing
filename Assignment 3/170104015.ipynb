{
  "nbformat": 4,
  "nbformat_minor": 0,
  "metadata": {
    "colab": {
      "name": "170104015.ipynb",
      "provenance": [],
      "collapsed_sections": []
    },
    "kernelspec": {
      "name": "python3",
      "display_name": "Python 3"
    },
    "language_info": {
      "name": "python"
    },
    "accelerator": "GPU"
  },
  "cells": [
    {
      "cell_type": "code",
      "metadata": {
        "id": "rR21Z9SBxH79"
      },
      "source": [
        "import pandas as pd\n",
        "import numpy as np\n",
        "import math\n",
        "import re\n",
        "import random\n",
        "from keras.preprocessing.text import Tokenizer\n",
        "from keras.preprocessing.sequence import pad_sequences\n",
        "from keras.models import Sequential\n",
        "from keras.layers import Dense, Embedding, LSTM, SpatialDropout1D, SimpleRNN\n",
        "from keras.layers import Dropout\n",
        "from keras.utils.np_utils import to_categorical\n",
        "from sklearn.model_selection import train_test_split\n",
        "from sklearn.metrics import f1_score, precision_score, recall_score\n",
        "from sklearn.metrics import classification_report, confusion_matrix\n",
        "import matplotlib as mpl\n",
        "import matplotlib.pyplot as plt\n",
        "import seaborn as sb\n"
      ],
      "execution_count": null,
      "outputs": []
    },
    {
      "cell_type": "code",
      "metadata": {
        "colab": {
          "base_uri": "https://localhost:8080/"
        },
        "id": "uKgLjqMcxSk6",
        "outputId": "f4341acc-2775-4b89-8338-8eaefbd192b7"
      },
      "source": [
        "from google.colab import drive\n",
        "drive.mount('/content/drive/')"
      ],
      "execution_count": null,
      "outputs": [
        {
          "output_type": "stream",
          "name": "stdout",
          "text": [
            "Mounted at /content/drive/\n"
          ]
        }
      ]
    },
    {
      "cell_type": "code",
      "metadata": {
        "id": "-cp4QOYmxUjc"
      },
      "source": [
        "df = pd.read_csv('/content/drive/MyDrive/Sotfcomputing/Assignment 3/Dataset 1.csv', encoding = \"ISO-8859-1\", engine='python')"
      ],
      "execution_count": null,
      "outputs": []
    },
    {
      "cell_type": "markdown",
      "metadata": {
        "id": "rPmEfCxZFEFa"
      },
      "source": [
        "# Preprocessing"
      ]
    },
    {
      "cell_type": "code",
      "metadata": {
        "id": "dRecrJC4xi_4"
      },
      "source": [
        "# removing mentions, links, tags\n",
        "\n",
        "import re\n",
        "\n",
        "def preprocessing(text):\n",
        "    text = re.sub(r'@[A-Za-z0-9]+', '', text)     # removing @mentions\n",
        "    text = re.sub(r'@[A-Za-zA-Z0-9]+', '', text)  # removing @mentions \n",
        "    text = re.sub(r'@[A-Za-z]+', '', text)        # removing @mentions\n",
        "    text = re.sub(r'@[-)]+', '', text)            # removing @mentions\n",
        "    text = re.sub(r'https?\\/\\/\\S+', '', text)     # removing the hyper link\n",
        "    text = re.sub(r'http?\\/\\/\\S+', '', text)     # removing the hyper link\n",
        "    text = re.sub(r'#', '', text )              # removing '#' sign\n",
        "    text = re.sub(r'RT[\\s]+', '', text)         # removing RT\n",
        "    text = re.sub(r'&[a-z;]+', '', text)        # removing '&gt;'\n",
        "    return text\n",
        "\n"
      ],
      "execution_count": null,
      "outputs": []
    },
    {
      "cell_type": "code",
      "metadata": {
        "id": "OELStpUAxz9T"
      },
      "source": [
        "df['message'] = df['message'].apply(preprocessing)"
      ],
      "execution_count": null,
      "outputs": []
    },
    {
      "cell_type": "code",
      "metadata": {
        "id": "GbMLoxkjv6__",
        "colab": {
          "base_uri": "https://localhost:8080/",
          "height": 204
        },
        "outputId": "4e19abed-684d-4ad8-f877-a86ff023fdab"
      },
      "source": [
        "df.head()"
      ],
      "execution_count": null,
      "outputs": [
        {
          "output_type": "execute_result",
          "data": {
            "text/html": [
              "<div>\n",
              "<style scoped>\n",
              "    .dataframe tbody tr th:only-of-type {\n",
              "        vertical-align: middle;\n",
              "    }\n",
              "\n",
              "    .dataframe tbody tr th {\n",
              "        vertical-align: top;\n",
              "    }\n",
              "\n",
              "    .dataframe thead th {\n",
              "        text-align: right;\n",
              "    }\n",
              "</style>\n",
              "<table border=\"1\" class=\"dataframe\">\n",
              "  <thead>\n",
              "    <tr style=\"text-align: right;\">\n",
              "      <th></th>\n",
              "      <th>message</th>\n",
              "      <th>label</th>\n",
              "    </tr>\n",
              "  </thead>\n",
              "  <tbody>\n",
              "    <tr>\n",
              "      <th>0</th>\n",
              "      <td>just had a real good moment. i missssssssss hi...</td>\n",
              "      <td>0</td>\n",
              "    </tr>\n",
              "    <tr>\n",
              "      <th>1</th>\n",
              "      <td>is reading manga  http://plurk.com/p/mzp1e</td>\n",
              "      <td>0</td>\n",
              "    </tr>\n",
              "    <tr>\n",
              "      <th>2</th>\n",
              "      <td>http://twitpic.com/2y2lx - http://www.youtube...</td>\n",
              "      <td>0</td>\n",
              "    </tr>\n",
              "    <tr>\n",
              "      <th>3</th>\n",
              "      <td>Need to send 'em to my accountant tomorrow. O...</td>\n",
              "      <td>0</td>\n",
              "    </tr>\n",
              "    <tr>\n",
              "      <th>4</th>\n",
              "      <td>ADD ME ON MYSPACE!!!  myspace.com/LookThunder</td>\n",
              "      <td>0</td>\n",
              "    </tr>\n",
              "  </tbody>\n",
              "</table>\n",
              "</div>"
            ],
            "text/plain": [
              "                                             message  label\n",
              "0  just had a real good moment. i missssssssss hi...      0\n",
              "1         is reading manga  http://plurk.com/p/mzp1e      0\n",
              "2   http://twitpic.com/2y2lx - http://www.youtube...      0\n",
              "3   Need to send 'em to my accountant tomorrow. O...      0\n",
              "4      ADD ME ON MYSPACE!!!  myspace.com/LookThunder      0"
            ]
          },
          "metadata": {},
          "execution_count": 6
        }
      ]
    },
    {
      "cell_type": "markdown",
      "metadata": {
        "id": "nSNvIKSYFO6g"
      },
      "source": [
        "## Vectorization"
      ]
    },
    {
      "cell_type": "code",
      "metadata": {
        "id": "dU4OMP86x7Bd"
      },
      "source": [
        "dataset = df\n",
        "unique_label = np.unique(df[\"label\"])\n",
        "num_classes = len(unique_label)\n",
        "\n",
        "from sklearn.model_selection import train_test_split\n",
        "X_train, X_test, y_train, y_test = train_test_split(dataset['message'].values, pd.get_dummies(dataset['label']).values, test_size=0.20)\n",
        "\n",
        "tokenizer = Tokenizer(num_words=25000)\n",
        "tokenizer.fit_on_texts(X_train)\n",
        "tokenizer.fit_on_texts(X_test)\n",
        "word_index = tokenizer.word_index\n",
        "\n",
        "train_seq = tokenizer.texts_to_sequences(X_train)\n",
        "test_seq = tokenizer.texts_to_sequences(X_test)\n",
        "pad_train = pad_sequences(train_seq, maxlen=100)\n",
        "pad_test = pad_sequences(test_seq, maxlen=100)\n",
        "\n"
      ],
      "execution_count": null,
      "outputs": []
    },
    {
      "cell_type": "markdown",
      "metadata": {
        "id": "e6qk3igOFKMx"
      },
      "source": [
        "## Model"
      ]
    },
    {
      "cell_type": "code",
      "metadata": {
        "colab": {
          "base_uri": "https://localhost:8080/"
        },
        "id": "p_Wv2iavQgrU",
        "outputId": "2895869c-04a1-42e3-da2d-3b6629cde65c"
      },
      "source": [
        "model = Sequential()\n",
        "model.add(Embedding(25000, 100, input_length=pad_train.shape[1]))\n",
        "model.add(LSTM(100, activation= 'tanh', return_sequences=True))\n",
        "model.add(LSTM(100, activation= 'tanh', return_sequences=True))\n",
        "model.add(LSTM(100, activation= 'tanh'))\n",
        "model.add(Dense(2, activation='sigmoid'))\n",
        "\n",
        "\n",
        "model.compile(loss='binary_crossentropy', optimizer='adam', metrics=['accuracy']) \n",
        "model.summary()\n",
        "\n",
        "epochs = 10\n",
        "batch_size = 64"
      ],
      "execution_count": null,
      "outputs": [
        {
          "output_type": "stream",
          "name": "stdout",
          "text": [
            "Model: \"sequential\"\n",
            "_________________________________________________________________\n",
            "Layer (type)                 Output Shape              Param #   \n",
            "=================================================================\n",
            "embedding (Embedding)        (None, 100, 100)          2500000   \n",
            "_________________________________________________________________\n",
            "lstm (LSTM)                  (None, 100, 100)          80400     \n",
            "_________________________________________________________________\n",
            "lstm_1 (LSTM)                (None, 100, 100)          80400     \n",
            "_________________________________________________________________\n",
            "lstm_2 (LSTM)                (None, 100)               80400     \n",
            "_________________________________________________________________\n",
            "dense (Dense)                (None, 2)                 202       \n",
            "=================================================================\n",
            "Total params: 2,741,402\n",
            "Trainable params: 2,741,402\n",
            "Non-trainable params: 0\n",
            "_________________________________________________________________\n"
          ]
        }
      ]
    },
    {
      "cell_type": "code",
      "metadata": {
        "colab": {
          "base_uri": "https://localhost:8080/"
        },
        "id": "QHBVsNiadqbd",
        "outputId": "d75c556f-2e7b-4ce3-f489-65966249b10a"
      },
      "source": [
        "history = model.fit(pad_train, y_train, epochs=epochs, batch_size=batch_size)"
      ],
      "execution_count": null,
      "outputs": [
        {
          "output_type": "stream",
          "name": "stdout",
          "text": [
            "Epoch 1/10\n",
            "129/129 [==============================] - 21s 87ms/step - loss: 0.2432 - accuracy: 0.9098\n",
            "Epoch 2/10\n",
            "129/129 [==============================] - 11s 82ms/step - loss: 0.0145 - accuracy: 0.9975\n",
            "Epoch 3/10\n",
            "129/129 [==============================] - 10s 79ms/step - loss: 0.0511 - accuracy: 0.9920\n",
            "Epoch 4/10\n",
            "129/129 [==============================] - 10s 78ms/step - loss: 0.0084 - accuracy: 0.9984\n",
            "Epoch 5/10\n",
            "129/129 [==============================] - 10s 75ms/step - loss: 0.0051 - accuracy: 0.9994\n",
            "Epoch 6/10\n",
            "129/129 [==============================] - 9s 72ms/step - loss: 0.0043 - accuracy: 0.9995\n",
            "Epoch 7/10\n",
            "129/129 [==============================] - 9s 70ms/step - loss: 0.0038 - accuracy: 0.9993\n",
            "Epoch 8/10\n",
            "129/129 [==============================] - 9s 69ms/step - loss: 0.0034 - accuracy: 0.9996\n",
            "Epoch 9/10\n",
            "129/129 [==============================] - 9s 70ms/step - loss: 0.0031 - accuracy: 0.9995\n",
            "Epoch 10/10\n",
            "129/129 [==============================] - 9s 69ms/step - loss: 0.0029 - accuracy: 0.9996\n"
          ]
        }
      ]
    },
    {
      "cell_type": "code",
      "metadata": {
        "colab": {
          "base_uri": "https://localhost:8080/"
        },
        "id": "d3f3jcGIZz_Y",
        "outputId": "4b7b2f2b-3c57-437b-965a-57542a02b0a9"
      },
      "source": [
        "evaluation = model.evaluate(pad_test,y_test)\n",
        "accuracy = evaluation[1] * 100\n",
        "print(\"Accuracy is : \", accuracy)"
      ],
      "execution_count": null,
      "outputs": [
        {
          "output_type": "stream",
          "name": "stdout",
          "text": [
            "65/65 [==============================] - 3s 29ms/step - loss: 0.0340 - accuracy: 0.9942\n",
            "Accuracy is :  99.41832423210144\n"
          ]
        }
      ]
    },
    {
      "cell_type": "code",
      "metadata": {
        "colab": {
          "base_uri": "https://localhost:8080/",
          "height": 295
        },
        "id": "jKQJYtRVQnEc",
        "outputId": "620e4144-44d8-4783-b61b-1b09245ea348"
      },
      "source": [
        "import matplotlib.pyplot as plt\n",
        "\n",
        "plt.plot(history.history['accuracy'])\n",
        "plt.title('model accuracy')\n",
        "plt.ylabel('accuracy')\n",
        "plt.xlabel('epoch')\n",
        "plt.legend(['train', 'test'], loc='upper left')\n",
        "plt.show()"
      ],
      "execution_count": null,
      "outputs": [
        {
          "output_type": "display_data",
          "data": {
            "image/png": "[encoded data removed]",
            "text/plain": [
              "<Figure size 432x288 with 1 Axes>"
            ]
          },
          "metadata": {
            "needs_background": "light"
          }
        }
      ]
    },
    {
      "cell_type": "code",
      "metadata": {
        "colab": {
          "base_uri": "https://localhost:8080/",
          "height": 295
        },
        "id": "0p_WKPFryMgd",
        "outputId": "5ef6c3ca-ba2c-44d9-9ca6-0e960004aee7"
      },
      "source": [
        "y_pred = model.predict(pad_test)\n",
        "\n",
        "new_y_pred = np.argmax(y_pred, axis=1)\n",
        "new_y_test = np.argmax(y_test, axis=1)\n",
        "\n",
        "conf_arr = np.zeros((num_classes, num_classes))\n",
        "\n",
        "for i in range(len(new_y_pred)):\n",
        "        conf_arr[new_y_pred[i]][new_y_test[i]] += 1\n",
        "\n",
        "df_cm = pd.DataFrame(conf_arr, index = unique_label, columns = unique_label)\n",
        "\n",
        "\n",
        "\n",
        "fig = plt.figure()\n",
        "plt.clf()\n",
        "\n",
        "ax = fig.add_subplot()\n",
        "ax.set_aspect(1)\n",
        "\n",
        "res = sb.heatmap(df_cm, annot=True, fmt='.2f')\n",
        "\n",
        "plt.title('Confusion Matrix')\n",
        "plt.ylabel('Predicted')\n",
        "plt.xlabel('True')\n",
        "plt.show()"
      ],
      "execution_count": null,
      "outputs": [
        {
          "output_type": "display_data",
          "data": {
            "image/png": "[encoded data removed]",
            "text/plain": [
              "<Figure size 432x288 with 2 Axes>"
            ]
          },
          "metadata": {
            "needs_background": "light"
          }
        }
      ]
    },
    {
      "cell_type": "code",
      "metadata": {
        "colab": {
          "base_uri": "https://localhost:8080/"
        },
        "id": "-1rb3x9RnQrk",
        "outputId": "152bef6a-8984-4cd0-d190-f090c13c1838"
      },
      "source": [
        "print(classification_report(new_y_test, new_y_pred))"
      ],
      "execution_count": null,
      "outputs": [
        {
          "output_type": "stream",
          "name": "stdout",
          "text": [
            "              precision    recall  f1-score   support\n",
            "\n",
            "           0       0.99      1.00      1.00      1596\n",
            "           1       1.00      0.98      0.99       467\n",
            "\n",
            "    accuracy                           0.99      2063\n",
            "   macro avg       1.00      0.99      0.99      2063\n",
            "weighted avg       0.99      0.99      0.99      2063\n",
            "\n"
          ]
        }
      ]
    },
    {
      "cell_type": "code",
      "metadata": {
        "colab": {
          "base_uri": "https://localhost:8080/"
        },
        "id": "feaYt21joMAS",
        "outputId": "22fc1bc3-d8cb-47dc-c63b-1288d0caf2d8"
      },
      "source": [
        "precision =   precision_score(new_y_test, new_y_pred) * 100\n",
        "recall =  recall_score(new_y_test, new_y_pred) * 100\n",
        "f1_score =  f1_score(new_y_test, new_y_pred) * 100\n",
        "print(precision)\n",
        "print(f1_score)\n",
        "print(recall)"
      ],
      "execution_count": null,
      "outputs": [
        {
          "output_type": "stream",
          "name": "stdout",
          "text": [
            "99.78118161925602\n",
            "98.7012987012987\n",
            "97.64453961456103\n"
          ]
        }
      ]
    },
    {
      "cell_type": "code",
      "metadata": {
        "colab": {
          "base_uri": "https://localhost:8080/",
          "height": 340
        },
        "id": "arKSoAU9K1ub",
        "outputId": "95cfd41d-2979-4bc2-afd8-8dd32b980f9f"
      },
      "source": [
        "import matplotlib.pyplot as plt\n",
        "fig = plt.figure()\n",
        "ax = fig.add_axes([0,0,1,1])\n",
        "label = ['Accuracy', 'Precision', 'F1-score', 'Recall']\n",
        "value = [accuracy,precision,f1_score,recall]\n",
        "ax.bar(label,value)\n",
        "plt.ylim(90,100)\n",
        "plt.show()"
      ],
      "execution_count": null,
      "outputs": [
        {
          "output_type": "display_data",
          "data": {
            "image/png": "[encoded data removed]",
            "text/plain": [
              "<Figure size 432x288 with 1 Axes>"
            ]
          },
          "metadata": {
            "needs_background": "light"
          }
        }
      ]
    },
    {
      "cell_type": "code",
      "metadata": {
        "id": "wKK3S4MUfH6D"
      },
      "source": [
        ""
      ],
      "execution_count": null,
      "outputs": []
    }
  ]
}